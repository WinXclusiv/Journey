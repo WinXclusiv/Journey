{
  "metadata": {
    "kernelspec": {
      "name": "python",
      "display_name": "Pyolite",
      "language": "python"
    },
    "language_info": {
      "codemirror_mode": {
        "name": "python",
        "version": 3
      },
      "file_extension": ".py",
      "mimetype": "text/x-python",
      "name": "python",
      "nbconvert_exporter": "python",
      "pygments_lexer": "ipython3",
      "version": "3.8"
    }
  },
  "nbformat_minor": 4,
  "nbformat": 4,
  "cells": [
    {
      "cell_type": "markdown",
      "source": "<center>\n    <img src=\"https://cf-courses-data.s3.us.cloud-object-storage.appdomain.cloud/IBMDeveloperSkillsNetwork-DS0105EN-SkillsNetwork/labs/Module2/images/SN_web_lightmode.png\" width=\"300\" alt=\"cognitiveclass.ai logo\">\n</center>\n",
      "metadata": {}
    },
    {
      "cell_type": "markdown",
      "source": "#### Add your code below following the instructions given in the course\n",
      "metadata": {}
    },
    {
      "cell_type": "markdown",
      "source": "# My Jupyter Notebook on IBM Watson Studio\n\n\n\n",
      "metadata": {}
    },
    {
      "cell_type": "markdown",
      "source": "**My name is Edwin** \nI desire to be a Data Engineer",
      "metadata": {}
    },
    {
      "cell_type": "markdown",
      "source": "_I am interested in data science because it will expose me to the very nature of data \nand understand how it can be querried._",
      "metadata": {}
    },
    {
      "cell_type": "markdown",
      "source": "### The code below suppose to output hello world in python",
      "metadata": {}
    },
    {
      "cell_type": "code",
      "source": "print(\"Hello world\")",
      "metadata": {
        "trusted": true
      },
      "execution_count": 1,
      "outputs": [
        {
          "name": "stdout",
          "text": "Hello world\n",
          "output_type": "stream"
        }
      ]
    },
    {
      "cell_type": "markdown",
      "source": "> Someone once told me that time was a predator that stalked us all our lives. \nI have studied hard on this course now I know to\n1. print in Python\n1. understand Jupyter lab\n\nTo learn more visit Coursera [link to cousera] (https://www.coursera.org/learn/open-source-tools-for-data-science/ungradedLti/WH6RD/lab-jupyter-notebook-more-features)",
      "metadata": {}
    },
    {
      "cell_type": "code",
      "source": "",
      "metadata": {},
      "execution_count": null,
      "outputs": []
    }
  ]
}